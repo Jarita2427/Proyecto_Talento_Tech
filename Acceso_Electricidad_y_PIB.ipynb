{
  "cells": [
    {
      "cell_type": "code",
      "execution_count": null,
      "metadata": {
        "colab": {
          "base_uri": "https://localhost:8080/",
          "height": 851
        },
        "collapsed": true,
        "id": "UVMFfz69AddO",
        "outputId": "cd9bd410-e0bf-457e-a869-060d3083b681"
      },
      "outputs": [],
      "source": [
        "#1. Importación de Librerias y Configuración\n",
        "\n",
        "# Importación de librerías esenciales\n",
        "import pandas as pd      # Para la manipulación y análisis de datos\n",
        "import numpy as np       # Para operaciones numéricas\n",
        "import matplotlib.pyplot as plt  # Para la generación de gráficos\n",
        "import seaborn as sns    # Para visualización de datos con estilos predefinidos\n",
        "import statsmodels.api as sm\n",
        "# Configuración de estilo para gráficos\n",
        "sns.set(style=\"whitegrid\", palette=\"muted\", color_codes=True)\n",
        "plt.rcParams['figure.figsize'] = (10, 6)  # Tamaño predeterminado de las figuras\n",
        "\n",
        "# Configuración de opciones de Pandas\n",
        "pd.set_option('display.max_columns', 50)\n",
        "pd.set_option('display.max_rows', 100)\n",
        "\n",
        "PIB_OTRAS='PIB VS OTRAS VARIABLES (2).xlsx'\n",
        "df=pd.read_excel(PIB_OTRAS)\n",
        "df.head()"
      ]
    },
    {
      "cell_type": "code",
      "execution_count": null,
      "metadata": {
        "colab": {
          "base_uri": "https://localhost:8080/",
          "height": 540
        },
        "collapsed": true,
        "id": "jFPmrNl1IlFj",
        "outputId": "ad9d4057-bd18-4bfa-8b4e-5a34145c6bdc"
      },
      "outputs": [],
      "source": [
        "\n",
        "\n",
        "# Convertir la columna Year a tipo object (string)\n",
        "df['Year'] = df['Year'].astype(str)\n",
        "\n",
        "# Verificar el tipo de dato de la columna Year\n",
        "print(df['Year'].dtype)\n",
        "\n",
        "#TIPO DE VARIABLE DE TODAS\n",
        "df.dtypes\n"
      ]
    },
    {
      "cell_type": "code",
      "execution_count": null,
      "metadata": {
        "colab": {
          "base_uri": "https://localhost:8080/",
          "height": 1000
        },
        "collapsed": true,
        "id": "72asfbbjI_vM",
        "outputId": "adf9e36b-2174-46c8-b4bb-c6419dc09bb6"
      },
      "outputs": [],
      "source": [
        "\n",
        "#columnas numéricas excluyendo 'PIB per capita (Moneda Local Constante)'\n",
        "numeric_cols = df.select_dtypes(include=np.number).columns\n",
        "numeric_cols = numeric_cols.drop('PIB per capita (Moneda Local Constante)')\n",
        "\n",
        "# Crear el mapa de correlación\n",
        "correlation_matrix = df[numeric_cols].corr()\n",
        "\n",
        "# Mostrar el mapa de correlación usando Seaborn\n",
        "plt.figure(figsize=(12, 10))\n",
        "sns.heatmap(correlation_matrix, annot=True, cmap='coolwarm', fmt=\".2f\")\n",
        "plt.title('Mapa de Correlación entre Variables Numéricas (Excluyendo PIB per capita)')\n",
        "plt.show()\n"
      ]
    },
    {
      "cell_type": "markdown",
      "metadata": {
        "id": "oWbyP1O7K7u0"
      },
      "source": [
        "El PIB per cápita está altamente correlacionado con el consumo de energía eléctrica, lo que indica que el desarrollo económico y la disponibilidad de electricidad están fuertemente ligados.\n",
        "\n",
        "La correlación entre el acceso urbano/rural a la electricidad y otras variables muestra cómo las zonas rurales suelen quedarse atrás en términos de desarrollo energético."
      ]
    },
    {
      "cell_type": "code",
      "execution_count": null,
      "metadata": {
        "colab": {
          "base_uri": "https://localhost:8080/"
        },
        "collapsed": true,
        "id": "jggHR2IzKWz0",
        "outputId": "67b6edb0-6594-4649-c849-76ce53a38799"
      },
      "outputs": [],
      "source": [
        "print(correlation_matrix.to_string()) #Matriz de correlación en string"
      ]
    },
    {
      "cell_type": "code",
      "execution_count": null,
      "metadata": {
        "colab": {
          "base_uri": "https://localhost:8080/",
          "height": 1000
        },
        "collapsed": true,
        "id": "XseEPG8FLXtl",
        "outputId": "20035373-eb91-4d6f-9ef2-fe21ec0b9602"
      },
      "outputs": [],
      "source": [
        "\n",
        "# Seleccionar solo columnas numéricas\n",
        "df_numeric = df.select_dtypes(include=np.number)\n",
        "\n",
        "# Excluir 'PIB per capita (Moneda Local Constante)'\n",
        "df_numeric = df_numeric.drop(columns=['PIB per capita (Moneda Local Constante)'], errors='ignore')\n",
        "\n",
        "# Estadísticas descriptivas para variables numéricas\n",
        "descriptive_stats = df_numeric.describe()\n",
        "print(descriptive_stats)\n",
        "\n",
        "# Análisis de distribución para variables numéricas\n",
        "for col in df_numeric.columns:\n",
        "    plt.figure(figsize=(8, 6))\n",
        "    sns.histplot(df_numeric[col], kde=True)\n",
        "    plt.title(f'Distribución de {col}')\n",
        "    plt.show()\n",
        "\n",
        "\n",
        "# Análisis de la distribución de la variable PIB per capita\n",
        "plt.figure(figsize=(8, 6))\n",
        "sns.boxplot(x=df['PIB per cápita (US$ a precios constantes de 2015)'])\n",
        "plt.title('Distribución del PIB per capita USD')\n",
        "plt.show()\n",
        "\n",
        "\n",
        "#diagramas de dispersión entre PIB per capita y otras variables\n",
        "# como el consumo de energía eléctrica.\n",
        "plt.figure(figsize=(8, 6))\n",
        "sns.scatterplot(x='PIB per cápita (US$ a precios constantes de 2015)', y='Consumo de energía eléctrica(kWh per capita)', data=df)\n",
        "plt.title('Relación entre PIB per cápita  y Consumo de Energía Eléctrica')\n",
        "plt.show()\n",
        "\n",
        "# gráfico de línea para observar la tendencia del PIB per capita a lo largo del tiempo.\n",
        "plt.figure(figsize=(10, 6))\n",
        "sns.lineplot(x='Year', y='PIB per cápita (US$ a precios constantes de 2015)', data=df)\n",
        "plt.title('Tendencia del PIB per capita a lo largo del tiempo')\n",
        "plt.show()\n",
        "\n",
        "\n"
      ]
    },
    {
      "cell_type": "code",
      "execution_count": null,
      "metadata": {
        "colab": {
          "base_uri": "https://localhost:8080/"
        },
        "collapsed": true,
        "id": "-vw8jTNHR4Wq",
        "outputId": "5ed78a7b-9e5d-4fee-d4cf-fde05faa07b6"
      },
      "outputs": [],
      "source": [
        "\n",
        "\n",
        "# Seleccionar solo columnas numéricas\n",
        "df_numeric = df.select_dtypes(include=np.number)\n",
        "\n",
        "# Excluir 'PIB per capita (Moneda Local Constante)'\n",
        "df_numeric = df_numeric.drop(columns=['PIB per capita (Moneda Local Constante)'], errors='ignore')\n",
        "\n",
        "# Definir variables que son porcentajes (%)\n",
        "percentage_cols = [\n",
        "    'Acceso a electricidad (% de la población)',\n",
        "    'Producción de electricidad a partir de fuentes renovables, excluída hidroeléctrica (% del total)',\n",
        "    'Producción de electricidad a partir de fuentes de petróleo, gas y carbón (% del total)',\n",
        "    'Consumo de energía renovable (% del consumo final total de energía)',\n",
        "    'Acceso a la electricidad, urbana (% de la población urbana)',\n",
        "    'Acceso a la electricidad, rural (% de la población rural)'\n",
        "]\n",
        "\n",
        "# Definir variables que son valores en dólares (USD)\n",
        "usd_cols = [\n",
        "    'PIB per cápita (US$ a precios constantes de 2015)',\n",
        "    'PIB por unidad de uso de energía (constant 2021 PPP $ per kg of oil equivalent)'\n",
        "]\n",
        "\n",
        "# Formatear los datos para mayor legibilidad\n",
        "descriptive_stats = df_numeric.describe()\n",
        "# Aplicar formato a porcentajes y valores en dólares\n",
        "for col in descriptive_stats.columns:\n",
        "    if col in percentage_cols:\n",
        "        descriptive_stats.loc[['mean', 'std', 'min', '25%', '50%', '75%', 'max'], col] = descriptive_stats.loc[['mean', 'std', 'min', '25%', '50%', '75%', 'max'], col].apply(lambda x: f\"{x:.2f}%\")\n",
        "    elif col in usd_cols:\n",
        "        descriptive_stats.loc[['mean', 'std', 'min', '25%', '50%', '75%', 'max'], col] = descriptive_stats.loc[['mean', 'std', 'min', '25%', '50%', '75%', 'max'], col].apply(lambda x: f\"${x:,.2f}\")\n",
        "    else:\n",
        "        descriptive_stats.loc[['mean', 'std', 'min', '25%', '50%', '75%', 'max'], col] = descriptive_stats.loc[['mean', 'std', 'min', '25%', '50%', '75%', 'max'], col].apply(lambda x: f\"{x:,.2f}\")\n",
        "\n",
        "# Asegurar que 'count' no tenga unidades\n",
        "descriptive_stats.loc['count'] = descriptive_stats.loc['count'].astype(int)\n",
        "\n",
        "# Mostrar tabla mejorada\n",
        "print(descriptive_stats)\n",
        "\n"
      ]
    },
    {
      "cell_type": "code",
      "execution_count": null,
      "metadata": {
        "colab": {
          "base_uri": "https://localhost:8080/",
          "height": 224
        },
        "collapsed": true,
        "id": "NjRgPTEMbi9a",
        "outputId": "d8ff24e2-9b9f-418d-cbc6-73a93c49dcdf"
      },
      "outputs": [],
      "source": [
        "#dejar solo las siguientes variables: 'Country Name', 'Country Code', 'Year',\n",
        "#        'Acceso a electricidad (% de la población)',\n",
        "#        'Acceso a la electricidad, urbana (% de la población urbana)',\n",
        "#        'Acceso a la electricidad, rural (% de la población rural)',\n",
        "#        'PIB per cápita (US$ a precios constantes de 2015)'\n",
        "\n",
        "\n",
        "df = df[[\n",
        "    'Country Name', 'Country Code', 'Year',\n",
        "    'Acceso a electricidad (% de la población)',\n",
        "    'Acceso a la electricidad, urbana (% de la población urbana)',\n",
        "    'Acceso a la electricidad, rural (% de la población rural)',\n",
        "    'PIB per cápita (US$ a precios constantes de 2015)'\n",
        "]]\n",
        "df.head()"
      ]
    },
    {
      "cell_type": "code",
      "execution_count": null,
      "metadata": {
        "colab": {
          "base_uri": "https://localhost:8080/",
          "height": 1000
        },
        "collapsed": true,
        "id": "0kcb1NtvcQ7C",
        "outputId": "1fe69475-2a6d-4176-bd54-59aaed9d611a"
      },
      "outputs": [],
      "source": [
        "\n",
        "# gráfico de línea para observar la tendencia del PIB per capita a lo largo del tiempo.\n",
        "\n",
        "usd_cols = [\n",
        "    'PIB per cápita (US$ a precios constantes de 2015)'\n",
        "]\n",
        "plt.figure(figsize=(12, 6))\n",
        "sns.lineplot(x='Year', y='PIB per cápita (US$ a precios constantes de 2015)', hue='Country Name', data=df)\n",
        "\n",
        "\n",
        "\n",
        "try:\n",
        "    sns.lineplot(x='Year', y='PIB per cápita (US$ a precios constantes de 2015)', hue='Country Name', data=df)\n",
        "except NameError:\n",
        "    plt.plot(df['Year'], df['PIB per cápita (US$ a precios constantes de 2015)'])\n",
        "plt.title('Tendencia del PIB Per Cápita a lo largo del tiempo por país')\n",
        "plt.xlabel('Año')\n",
        "plt.ylabel('PIB per capita (USD)')\n",
        "plt.xticks(rotation=45, ha='right')  # Rotar las etiquetas del eje x para una mejor legibilidad\n",
        "plt.legend(bbox_to_anchor=(1.05, 1), loc='upper left')  # Mover la leyenda fuera del gráfico\n",
        "plt.tight_layout()\n",
        "plt.show()\n",
        "\n",
        "\n",
        "plt.tight_layout()\n",
        "plt.show()\n"
      ]
    },
    {
      "cell_type": "code",
      "execution_count": null,
      "metadata": {
        "colab": {
          "base_uri": "https://localhost:8080/",
          "height": 574
        },
        "collapsed": true,
        "id": "hMGc-eOafqe6",
        "outputId": "d7946f49-1a71-4e13-dd28-0832e2cbad76"
      },
      "outputs": [],
      "source": [
        "# GRAFICO DE PIB PERCAPITA VS  Acceso a la electricidad, urbana (% de la población urbana),  Acceso a la electricidad, rural (% de la población rural )\n",
        "\n",
        "\n",
        "# Gráfico de dispersión PIB per cápita vs Acceso a la electricidad urbana y rural\n",
        "\n",
        "plt.figure(figsize=(12, 6))\n",
        "\n",
        "# Gráfico de dispersión para acceso a electricidad urbana\n",
        "sns.scatterplot(x='PIB per cápita (US$ a precios constantes de 2015)', y='Acceso a la electricidad, urbana (% de la población urbana)', data=df, label='Urbana', alpha=0.7)\n",
        "\n",
        "# Gráfico de dispersión para acceso a electricidad rural\n",
        "sns.scatterplot(x='PIB per cápita (US$ a precios constantes de 2015)', y='Acceso a la electricidad, rural (% de la población rural)', data=df, label='Rural', alpha=0.7)\n",
        "\n",
        "plt.title('PIB per cápita vs Acceso a la electricidad (Urbana y Rural)')\n",
        "plt.xlabel('PIB per cápita (US$ a precios constantes de 2015)')\n",
        "plt.ylabel('Acceso a la electricidad (% de la población)')\n",
        "plt.legend()\n",
        "plt.show()\n"
      ]
    },
    {
      "cell_type": "code",
      "execution_count": null,
      "metadata": {
        "colab": {
          "base_uri": "https://localhost:8080/",
          "height": 574
        },
        "collapsed": true,
        "id": "biZKgAVshlsT",
        "outputId": "c4f60059-729c-4939-9c9a-f68972a8db24"
      },
      "outputs": [],
      "source": [
        "#  grafico de dispersion  'PIB per cápita (US$ a precios constantes de 2015)' vs 'Acceso a la electricidad, urbana (% de la población urbana)'\n",
        "\n",
        "# Gráfico de dispersión PIB per cápita vs Acceso a la electricidad, urbana\n",
        "plt.figure(figsize=(10, 6))\n",
        "sns.scatterplot(x='PIB per cápita (US$ a precios constantes de 2015)',\n",
        "                y='Acceso a la electricidad, urbana (% de la población urbana)',\n",
        "                data=df)\n",
        "plt.title('PIB per cápita vs Acceso a la electricidad, urbana')\n",
        "plt.xlabel('PIB per cápita (US$ a precios constantes de 2015)')\n",
        "plt.ylabel('Acceso a la electricidad, urbana (% de la población urbana)')\n",
        "plt.show()\n"
      ]
    },
    {
      "cell_type": "code",
      "execution_count": null,
      "metadata": {
        "colab": {
          "base_uri": "https://localhost:8080/",
          "height": 1000
        },
        "collapsed": true,
        "id": "7raskdQdLcGJ",
        "outputId": "55b414ed-e98d-4f11-adc1-5614d1df1dd7"
      },
      "outputs": [],
      "source": [
        "\n",
        "# Seleccionar las variables para el mapa de calor\n",
        "variables_mapa_calor = [\n",
        "    'Acceso a electricidad (% de la población)',\n",
        "    'Acceso a la electricidad, urbana (% de la población urbana)',\n",
        "    'Acceso a la electricidad, rural (% de la población rural)',\n",
        "    'PIB per cápita (US$ a precios constantes de 2015)'\n",
        "]\n",
        "\n",
        "# matriz de correlación solo con las variables seleccionadas\n",
        "correlation_matrix = df[variables_mapa_calor].corr()\n",
        "\n",
        "# Generar el mapa de calor\n",
        "plt.figure(figsize=(10, 8))\n",
        "sns.heatmap(correlation_matrix, annot=True, cmap='coolwarm', fmt=\".2f\")\n",
        "plt.title('Matriz de correlación entre variables de acceso a la electricidad y PIB per cápita de países seleccionados (2000-2014)')\n",
        "plt.show()\n"
      ]
    },
    {
      "cell_type": "code",
      "execution_count": null,
      "metadata": {
        "colab": {
          "base_uri": "https://localhost:8080/",
          "height": 496
        },
        "collapsed": true,
        "id": "_j_aG4jLMBt0",
        "outputId": "53612225-f976-4c23-dbf3-baec33bb526a"
      },
      "outputs": [],
      "source": [
        "\n",
        "# Filtrar solo Colombia\n",
        "df_colombia = df[df[\"Country Name\"] == \"Colombia\"]\n",
        "\n",
        "# Gráfico de líneas\n",
        "fig, ax1 = plt.subplots(figsize=(10,5))\n",
        "\n",
        "# Acceso a electricidad\n",
        "ax1.set_xlabel(\"Año\")\n",
        "ax1.set_ylabel(\"Acceso a electricidad (%)\", color=\"tab:blue\")\n",
        "sns.lineplot(data=df_colombia, x=\"Year\", y=\"Acceso a electricidad (% de la población)\", ax=ax1, color=\"tab:blue\", label=\"Total\")\n",
        "sns.lineplot(data=df_colombia, x=\"Year\", y=\"Acceso a la electricidad, urbana (% de la población urbana)\", ax=ax1, color=\"tab:green\", label=\"Urbana\")\n",
        "sns.lineplot(data=df_colombia, x=\"Year\", y=\"Acceso a la electricidad, rural (% de la población rural)\", ax=ax1, color=\"tab:red\", label=\"Rural\")\n",
        "\n",
        "# PIB per cápita en eje secundario\n",
        "ax2 = ax1.twinx()\n",
        "ax2.set_ylabel(\"PIB per cápita (US$ constantes 2015)\", color=\"tab:orange\")\n",
        "sns.lineplot(data=df_colombia, x=\"Year\", y=\"PIB per cápita (US$ a precios constantes de 2015)\", ax=ax2, color=\"tab:orange\", label=\"PIB\")\n",
        "\n",
        "ax1.legend(loc=\"upper left\")\n",
        "ax2.legend(loc=\"upper right\")\n",
        "plt.title(\"Acceso a la Electricidad y PIB per Cápita en Colombia (2000-2014)\")\n",
        "plt.savefig(\"Acceso a la Electricidad y PIB per Cápita en Colombia (2000-2014).png\", bbox_inches=\"tight\", dpi=300)\n",
        "plt.show()\n"
      ]
    },
    {
      "cell_type": "code",
      "execution_count": null,
      "metadata": {
        "colab": {
          "base_uri": "https://localhost:8080/",
          "height": 496
        },
        "collapsed": true,
        "id": "RxzH2lOyPAFp",
        "outputId": "64025970-3c8e-4704-c543-3eb6e05076eb"
      },
      "outputs": [],
      "source": [
        "#resto del mundo\n",
        "# Filtrar todos los países excepto Colombia\n",
        "df_sin_colombia = df[df[\"Country Name\"] != \"Colombia\"]\n",
        "\n",
        "# Agrupar por año y calcular el promedio\n",
        "df_promedio = df_sin_colombia.groupby(\"Year\").agg({\n",
        "    \"Acceso a electricidad (% de la población)\": \"mean\",\n",
        "    \"Acceso a la electricidad, urbana (% de la población urbana)\": \"mean\",\n",
        "    \"Acceso a la electricidad, rural (% de la población rural)\": \"mean\",\n",
        "    \"PIB per cápita (US$ a precios constantes de 2015)\": \"mean\"\n",
        "})\n",
        "\n",
        "# Gráfico de líneas\n",
        "fig, ax1 = plt.subplots(figsize=(10,5))\n",
        "\n",
        "# Acceso a electricidad\n",
        "ax1.set_xlabel(\"Año\")\n",
        "ax1.set_ylabel(\"Acceso a electricidad (%)\", color=\"tab:blue\")\n",
        "sns.lineplot(data=df_promedio, x=\"Year\", y=\"Acceso a electricidad (% de la población)\", ax=ax1, color=\"tab:blue\", label=\"Total\")\n",
        "sns.lineplot(data=df_promedio, x=\"Year\", y=\"Acceso a la electricidad, urbana (% de la población urbana)\", ax=ax1, color=\"tab:green\", label=\"Urbana\")\n",
        "sns.lineplot(data=df_promedio, x=\"Year\", y=\"Acceso a la electricidad, rural (% de la población rural)\", ax=ax1, color=\"tab:red\", label=\"Rural\")\n",
        "\n",
        "# PIB per cápita en eje secundario\n",
        "ax2 = ax1.twinx()\n",
        "ax2.set_ylabel(\"PIB per cápita (US$ constantes 2015)\", color=\"tab:orange\")\n",
        "sns.lineplot(data=df_promedio, x=\"Year\", y=\"PIB per cápita (US$ a precios constantes de 2015)\", ax=ax2, color=\"tab:orange\", label=\"PIB\")\n",
        "\n",
        "ax1.legend(loc=\"upper left\")\n",
        "ax2.legend(loc=\"upper right\")\n",
        "plt.title(\"Acceso promedio a la Electricidad y PIB per Cápita Países seleccionados (Excluyendo Colombia, 2000-2014)\")\n",
        "plt.show()\n",
        "\n",
        "\n"
      ]
    },
    {
      "cell_type": "code",
      "execution_count": null,
      "metadata": {
        "colab": {
          "base_uri": "https://localhost:8080/",
          "height": 1000
        },
        "collapsed": true,
        "id": "YnxKaI8fNqDn",
        "outputId": "83b37aca-1477-4338-de14-c2aee8165040"
      },
      "outputs": [],
      "source": [
        "\n",
        "# Filtrar solo Colombia\n",
        "df_colombia = df[df[\"Country Name\"] == \"Colombia\"]\n",
        "\n",
        "# Seleccionar las variables para el mapa de calor\n",
        "variables_mapa_calor = [\n",
        "    'Acceso a electricidad (% de la población)',\n",
        "    'Acceso a la electricidad, urbana (% de la población urbana)',\n",
        "    'Acceso a la electricidad, rural (% de la población rural)',\n",
        "    'PIB per cápita (US$ a precios constantes de 2015)'\n",
        "]\n",
        "\n",
        "# matriz de correlación solo con las variables seleccionadas para Colombia\n",
        "correlation_matrix_colombia = df_colombia[variables_mapa_calor].corr()\n",
        "\n",
        "# Generar el mapa de calor solo para Colombia\n",
        "plt.figure(figsize=(10, 8))\n",
        "sns.heatmap(correlation_matrix_colombia, annot=True, cmap='coolwarm', fmt=\".2f\")\n",
        "plt.title('Matriz de correlación entre variables de acceso a la electricidad y PIB Per cápita para Colombia (2000-2014)')\n",
        "plt.show()\n"
      ]
    },
    {
      "cell_type": "code",
      "execution_count": null,
      "metadata": {
        "colab": {
          "base_uri": "https://localhost:8080/",
          "height": 596
        },
        "collapsed": true,
        "id": "AE4nennLOAlc",
        "outputId": "28e88400-1196-4531-b846-6c16b8aefaea"
      },
      "outputs": [],
      "source": [
        "\n",
        "# Filtrar solo Colombia\n",
        "df_colombia = df[df[\"Country Name\"] == \"Colombia\"]\n",
        "\n",
        "# Crear un gráfico de barras para el acceso a la electricidad en Colombia\n",
        "plt.figure(figsize=(10, 6))\n",
        "plt.bar(df_colombia['Year'], df_colombia['Acceso a electricidad (% de la población)'])\n",
        "plt.title('Acceso a la electricidad en Colombia (2000-2014)')\n",
        "plt.xlabel('Año')\n",
        "plt.ylabel('Acceso a la electricidad (%)')\n",
        "plt.xticks(rotation=45)\n",
        "plt.show()\n"
      ]
    },
    {
      "cell_type": "code",
      "execution_count": null,
      "metadata": {
        "colab": {
          "base_uri": "https://localhost:8080/",
          "height": 727
        },
        "collapsed": true,
        "id": "v76daO0rNU_s",
        "outputId": "618cc46e-9b15-483a-ac89-ef8cedc74dbe"
      },
      "outputs": [],
      "source": [
        "#Acceso a la electricidad\n",
        "plt.figure(figsize=(12,8))\n",
        "df_pivot = df.pivot(index=\"Country Name\", columns=\"Year\", values=\"Acceso a electricidad (% de la población)\").fillna(0)\n",
        "sns.heatmap(df_pivot, cmap=\"coolwarm\", linewidths=0.5, annot=False)\n",
        "plt.title(\"Acceso a la electricidad países seleccionados (2000-2014)\")\n",
        "plt.xlabel(\"Año\")\n",
        "plt.ylabel(\"País\")\n",
        "plt.show()\n"
      ]
    },
    {
      "cell_type": "code",
      "execution_count": null,
      "metadata": {
        "colab": {
          "base_uri": "https://localhost:8080/"
        },
        "collapsed": true,
        "id": "ab8p4wmWTD-o",
        "outputId": "5c626374-ae9a-4a22-922f-700f4e5aa7ec"
      },
      "outputs": [],
      "source": [
        "\n",
        "\n",
        "# lista de países únicos\n",
        "paises = df['Country Name'].unique()\n",
        "\n",
        "# Imprimir la lista de países\n",
        "paises\n"
      ]
    },
    {
      "cell_type": "code",
      "execution_count": null,
      "metadata": {
        "id": "nH7BT4DiURDv"
      },
      "outputs": [],
      "source": [
        "#visualizaciones por continente\n",
        "continent_dict = {\n",
        "    \"Africa\": [\"Algeria\", \"Egypt, Arab Rep.\", \"Ethiopia\", \"Morocco\", \"Nigeria\"],\n",
        "    \"Asia\": [\"India\", \"Indonesia\", \"Iran, Islamic Rep.\", \"Iraq\", \"Japan\",\n",
        "             \"Saudi Arabia\", \"United Arab Emirates\"],\n",
        "    \"Europe\": [\"France\", \"Germany\", \"Italy\", \"Netherlands\", \"Norway\", \"Poland\",\n",
        "               \"Romania\", \"Russian Federation\", \"Spain\", \"United Kingdom\"],\n",
        "    \"North America\": [\"Canada\", \"Mexico\", \"United States\"],\n",
        "    \"South America\": [\"Argentina\", \"Bolivia\", \"Brazil\", \"Chile\", \"Colombia\",\n",
        "                      \"Ecuador\", \"Peru\"],\n",
        "    \"Oceania\": [\"Australia\", \"New Zealand\"]\n",
        "}\n",
        "\n",
        "# diccionario inverso para asignación rápida\n",
        "country_to_continent = {country: continent for continent, countries in continent_dict.items() for country in countries}\n",
        "\n",
        "# Agregar la columna de continente al DataFrame\n",
        "df[\"Continent\"] = df[\"Country Name\"].map(country_to_continent)\n"
      ]
    },
    {
      "cell_type": "code",
      "execution_count": null,
      "metadata": {
        "colab": {
          "base_uri": "https://localhost:8080/",
          "height": 674
        },
        "collapsed": true,
        "id": "0KElOZobVEDq",
        "outputId": "75bfdcb0-075c-4565-fe22-aebcd141001f"
      },
      "outputs": [],
      "source": [
        "#Tendencia Promedio de Acceso a Electricidad por Continente\n",
        "\n",
        "# Calcular el promedio de acceso a electricidad por continente y año\n",
        "df_continent_electricity = df.groupby([\"Year\", \"Continent\"])[\"Acceso a electricidad (% de la población)\"].mean().reset_index()\n",
        "\n",
        "# Gráfico de líneas\n",
        "plt.figure(figsize=(10,6))\n",
        "sns.lineplot(data=df_continent_electricity, x=\"Year\", y=\"Acceso a electricidad (% de la población)\", hue=\"Continent\", marker=\"o\")\n",
        "plt.xlabel(\"Año\")\n",
        "plt.ylabel(\"Acceso a electricidad (%)\")\n",
        "plt.title(\"Evolución del Acceso a la Electricidad por Continente\")\n",
        "plt.legend(title=\"Continente\", bbox_to_anchor=(0.5, -0.15), loc=\"upper center\", ncol=3)\n",
        "plt.show()\n"
      ]
    },
    {
      "cell_type": "code",
      "execution_count": null,
      "metadata": {
        "colab": {
          "base_uri": "https://localhost:8080/",
          "height": 674
        },
        "collapsed": true,
        "id": "tVlBAJZ2VbaF",
        "outputId": "58125481-d166-4d88-8eb1-2e9d8381743d"
      },
      "outputs": [],
      "source": [
        "#Comparación del PIB Per Cápita entre continentes\n",
        "# Calcular el promedio del PIB per cápita por continente y año\n",
        "df_continent_gdp = df.groupby([\"Year\", \"Continent\"])[\"PIB per cápita (US$ a precios constantes de 2015)\"].mean().reset_index()\n",
        "\n",
        "# Gráfico de líneas\n",
        "plt.figure(figsize=(10,6))\n",
        "sns.lineplot(data=df_continent_gdp, x=\"Year\", y=\"PIB per cápita (US$ a precios constantes de 2015)\", hue=\"Continent\", marker=\"o\")\n",
        "plt.xlabel(\"Año\")\n",
        "plt.ylabel(\"PIB per cápita (US$ constantes 2015)\")\n",
        "plt.title(\"Evolución del PIB per Cápita por Continente\")\n",
        "plt.legend(title=\"Continente\", bbox_to_anchor=(0.5, -0.15), loc=\"upper center\", ncol=3)\n",
        "\n",
        "plt.show()\n"
      ]
    },
    {
      "cell_type": "code",
      "execution_count": null,
      "metadata": {
        "colab": {
          "base_uri": "https://localhost:8080/",
          "height": 580
        },
        "collapsed": true,
        "id": "h5nh8PrGYSes",
        "outputId": "b55f4d90-47dc-424e-9cbc-15e97fc4ad1f"
      },
      "outputs": [],
      "source": [
        "\n",
        "# Agrupar por año y país, y calcular el promedio del PIB per cápita\n",
        "df_avg_gdp_per_country_year = df.groupby(['Year', 'Country Name'])['PIB per cápita (US$ a precios constantes de 2015)'].mean().reset_index()\n",
        "\n",
        "# Agrupar por año y continente, y calcular el promedio del PIB per cápita\n",
        "df_avg_gdp_per_continent_year = df.groupby(['Year', 'Continent'])['PIB per cápita (US$ a precios constantes de 2015)'].mean().reset_index()\n",
        "\n",
        "\n",
        "\n",
        "\n",
        "# Visualizar el promedio del PIB per cápita por continente y año\n",
        "plt.figure(figsize=(12, 6))\n",
        "sns.lineplot(x='Year', y='PIB per cápita (US$ a precios constantes de 2015)', hue='Continent', data=df_avg_gdp_per_continent_year)\n",
        "plt.title('PIB per cápita promedio por continente por periodo observado')\n",
        "plt.xlabel('Año')\n",
        "plt.ylabel('PIB per cápita (USD)')\n",
        "plt.xticks(rotation=45)\n",
        "\n",
        "plt.legend(bbox_to_anchor=(0.5, -0.15), loc='upper center')\n",
        "plt.tight_layout()\n",
        "plt.show()\n"
      ]
    },
    {
      "cell_type": "code",
      "execution_count": null,
      "metadata": {
        "colab": {
          "base_uri": "https://localhost:8080/",
          "height": 908
        },
        "collapsed": true,
        "id": "5Km3y5c9CH6V",
        "outputId": "99d3bd30-804d-48bd-d9d8-52dabd3cd29e"
      },
      "outputs": [],
      "source": [
        "\n",
        "# Agrupar los datos por año y continente, calculando la media\n",
        "df_grouped = df.groupby(['Year', 'Continent'])[['Acceso a electricidad (% de la población)', 'PIB per cápita (US$ a precios constantes de 2015)']].mean().reset_index()\n",
        "\n",
        "plt.figure(figsize=(14, 7))\n",
        "\n",
        "# Crear el gráfico de barras para el acceso a la electricidad con colores más vivos\n",
        "ax1 = sns.barplot(x='Year', y='Acceso a electricidad (% de la población)', hue='Continent', data=df_grouped, alpha=0.8, palette=\"tab10\")\n",
        "\n",
        "# Crear un segundo eje Y para el PIB per cápita\n",
        "ax2 = ax1.twinx()\n",
        "sns.lineplot(x='Year', y='PIB per cápita (US$ a precios constantes de 2015)', hue='Continent', data=df_grouped, marker='o', ax=ax2, legend=False, palette=\"dark\")\n",
        "\n",
        "# Títulos y etiquetas con colores más destacados\n",
        "plt.title('Evolución del PIB per cápita y Acceso a la Electricidad por Continente (2000-2014)', fontsize=14, fontweight='bold')\n",
        "ax1.set_xlabel('Año', fontsize=12)\n",
        "ax1.set_ylabel('Acceso a Electricidad (%)', color='blue', fontsize=12)\n",
        "ax2.set_ylabel('PIB per cápita (USD)', color='darkorange', fontsize=12)\n",
        "\n",
        "# Ajustar las etiquetas del eje X\n",
        "plt.xticks(rotation=45, ha='right')\n",
        "\n",
        "# Obtener leyendas separadas para los dos gráficos\n",
        "handles1, labels1 = ax1.get_legend_handles_labels()  # Leyenda de los continentes (barras)\n",
        "handles2 = [plt.Line2D([0], [0], color='black', marker='o', linestyle='-', label='PIB per cápita (Línea)')]  # Línea del PIB\n",
        "\n",
        "\n",
        "\n",
        "# Crear una nueva leyenda combinada y colocarla abajo centrada\n",
        "ax1.legend(handles=handles1 + handles2, title=\"Continente\", loc='lower center', bbox_to_anchor=(0.5, -0.2), ncol=3)\n",
        "\n",
        "plt.tight_layout()\n",
        "plt.subplots_adjust(bottom=-0.2)  # Ajustar el espacio inferior para la leyenda\n",
        "plt.show()\n",
        "\n"
      ]
    }
  ],
  "metadata": {
    "accelerator": "TPU",
    "colab": {
      "gpuType": "V28",
      "provenance": []
    },
    "kernelspec": {
      "display_name": "Python 3",
      "name": "python3"
    },
    "language_info": {
      "codemirror_mode": {
        "name": "ipython",
        "version": 3
      },
      "file_extension": ".py",
      "mimetype": "text/x-python",
      "name": "python",
      "nbconvert_exporter": "python",
      "pygments_lexer": "ipython3",
      "version": "3.12.2"
    }
  },
  "nbformat": 4,
  "nbformat_minor": 0
}
